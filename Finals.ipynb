{
 "cells": [
  {
   "cell_type": "code",
   "execution_count": 4,
   "metadata": {},
   "outputs": [],
   "source": [
    "import cv2 as cv\n",
    "import sys"
   ]
  },
  {
   "cell_type": "code",
   "execution_count": 5,
   "metadata": {},
   "outputs": [
    {
     "name": "stdout",
     "output_type": "stream",
     "text": [
      "Please Enter Filename: Erwin.jpeg\n",
      "Please Enter Filename: Erwin1.jpeg\n",
      "Please Enter Filename: Erwin2.jpeg\n"
     ]
    }
   ],
   "source": [
    "cap = cv.VideoCapture(0)\n",
    "Filter = \"NOT Available\"\n",
    "\n",
    "if not cap.isOpened():\n",
    "    print(\"Can't open camera\")\n",
    "    exit()\n",
    "    \n",
    "while True:\n",
    "    \n",
    "    ret, frame = cap.read() \n",
    "\n",
    "    if not ret:\n",
    "        print(\"Sorry Can't receive the frame (stream end?). Exiting ...\")\n",
    "        break\n",
    "    \n",
    "    if  Filter == \"ColorSpace Conversion\":\n",
    "        hsv=cv.cvtColor(frame,cv.COLOR_BGR2HSV)\n",
    "        mask = cv.inRange(hsv, (20, 40, 60), (255, 255, 210))\n",
    "        frame = cv.bitwise_and(frame, frame, mask= mask)\n",
    "        \n",
    "    elif Filter == \"Frame Effect\":\n",
    "            cv.circle(frame,(60, 90), 70, (225, 175, 102), -1)\n",
    "            cv.circle(frame,(30, 225), 130, (190, 41, 169), -1)\n",
    "            cv.circle(frame,(150, 55), 10, (134, 140, 257), -1)\n",
    "            cv.circle(frame,(160, 75), 80, (233, 146, 245), -3)\n",
    "            cv.circle(frame,(200, 65), 30, (265, 58, 5), -1)\n",
    "            cv.circle(frame,(420, 20), 70, (233, 146, 275), -1)\n",
    "            \n",
    "        \n",
    "    elif Filter == \"Emoji Effect\":\n",
    "            cv.circle(frame,(256,256), 126, (53, 205, 255), -1)\n",
    "            cv.ellipse(frame,(256,256),(10,5),0,180,0,(67,84,107),-1)\n",
    "            cv.ellipse(frame,(256,270),(80,90),0,180,0,(67,84,107),-1)\n",
    "            cv.circle(frame,(205,215), 26, (17, 17, 17), -1)\n",
    "            cv.circle(frame,(320,215), 26, (17, 17, 17), -1)\n",
    "            cv.circle(frame,(155,150), 40, (17, 17, 17), -1)\n",
    "            cv.circle(frame,(370,150), 40, (17, 17, 17), -1)\n",
    "\n",
    "\n",
    "    cv.imshow('frame', frame)\n",
    "    k = cv.waitKey(1)\n",
    "    \n",
    "    if k == ord('1'):\n",
    "        Filter = \"ColorSpace Conversion\" \n",
    "      \n",
    "    \n",
    "    elif k == ord('2'):\n",
    "         Filter = \"Frame Effect\" \n",
    "\n",
    "        \n",
    "    elif k == ord('3'):\n",
    "        Filter = \"Emoji Effect\" \n",
    "\n",
    "       \n",
    "    elif k == ord(\"s\"):\n",
    "        file = str(input(\"Please Enter Filename: \"))\n",
    "        if file:\n",
    "            cv.imwrite(file, frame)\n",
    "                       \n",
    "               \n",
    "    elif k == 27:\n",
    "        break\n",
    "\n",
    "\n",
    "cap.release()\n",
    "cv.destroyAllWindows()"
   ]
  },
  {
   "cell_type": "markdown",
   "metadata": {},
   "source": []
  }
 ],
 "metadata": {
  "kernelspec": {
   "display_name": "Python 3",
   "language": "python",
   "name": "python3"
  },
  "language_info": {
   "codemirror_mode": {
    "name": "ipython",
    "version": 3
   },
   "file_extension": ".py",
   "mimetype": "text/x-python",
   "name": "python",
   "nbconvert_exporter": "python",
   "pygments_lexer": "ipython3",
   "version": "3.8.3"
  }
 },
 "nbformat": 4,
 "nbformat_minor": 4
}
